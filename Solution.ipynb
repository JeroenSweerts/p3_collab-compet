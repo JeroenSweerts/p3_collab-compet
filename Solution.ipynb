{
 "cells": [
  {
   "cell_type": "markdown",
   "metadata": {},
   "source": [
    "# Collaboration and Competition\n",
    "\n",
    "---\n",
    "\n",
    "In this notebook, you will learn how to use the Unity ML-Agents environment for the third project of the [Deep Reinforcement Learning Nanodegree](https://www.udacity.com/course/deep-reinforcement-learning-nanodegree--nd893) program.\n",
    "\n",
    "### 1. Start the Environment\n",
    "\n",
    "We begin by importing the necessary packages.  If the code cell below returns an error, please revisit the project instructions to double-check that you have installed [Unity ML-Agents](https://github.com/Unity-Technologies/ml-agents/blob/master/docs/Installation.md) and [NumPy](http://www.numpy.org/)."
   ]
  },
  {
   "cell_type": "code",
   "execution_count": 1,
   "metadata": {
    "scrolled": true
   },
   "outputs": [],
   "source": [
    "from unityagents import UnityEnvironment\n",
    "import numpy as np\n",
    "from collections import deque\n",
    "import matplotlib.pyplot as plt\n",
    "%matplotlib inline\n",
    "import random, torch, time"
   ]
  },
  {
   "cell_type": "markdown",
   "metadata": {},
   "source": [
    "Next, we will start the environment!  **_Before running the code cell below_**, change the `file_name` parameter to match the location of the Unity environment that you downloaded.\n",
    "\n",
    "- **Mac**: `\"path/to/Tennis.app\"`\n",
    "- **Windows** (x86): `\"path/to/Tennis_Windows_x86/Tennis.exe\"`\n",
    "- **Windows** (x86_64): `\"path/to/Tennis_Windows_x86_64/Tennis.exe\"`\n",
    "- **Linux** (x86): `\"path/to/Tennis_Linux/Tennis.x86\"`\n",
    "- **Linux** (x86_64): `\"path/to/Tennis_Linux/Tennis.x86_64\"`\n",
    "- **Linux** (x86, headless): `\"path/to/Tennis_Linux_NoVis/Tennis.x86\"`\n",
    "- **Linux** (x86_64, headless): `\"path/to/Tennis_Linux_NoVis/Tennis.x86_64\"`\n",
    "\n",
    "For instance, if you are using a Mac, then you downloaded `Tennis.app`.  If this file is in the same folder as the notebook, then the line below should appear as follows:\n",
    "```\n",
    "env = UnityEnvironment(file_name=\"Tennis.app\")\n",
    "```"
   ]
  },
  {
   "cell_type": "code",
   "execution_count": 2,
   "metadata": {
    "scrolled": false
   },
   "outputs": [
    {
     "name": "stderr",
     "output_type": "stream",
     "text": [
      "INFO:unityagents:\n",
      "'Academy' started successfully!\n",
      "Unity Academy name: Academy\n",
      "        Number of Brains: 1\n",
      "        Number of External Brains : 1\n",
      "        Lesson number : 0\n",
      "        Reset Parameters :\n",
      "\t\t\n",
      "Unity brain name: TennisBrain\n",
      "        Number of Visual Observations (per agent): 0\n",
      "        Vector Observation space type: continuous\n",
      "        Vector Observation space size (per agent): 8\n",
      "        Number of stacked Vector Observation: 3\n",
      "        Vector Action space type: continuous\n",
      "        Vector Action space size (per agent): 2\n",
      "        Vector Action descriptions: , \n"
     ]
    },
    {
     "name": "stdout",
     "output_type": "stream",
     "text": [
      "Number of agents: 2\n"
     ]
    }
   ],
   "source": [
    "env = UnityEnvironment(file_name=\"Tennis_Linux/Tennis.x86_64\")\n",
    "\n",
    "# get the default brain\n",
    "brain_name = env.brain_names[0]\n",
    "brain = env.brains[brain_name]\n",
    "env_info = env.reset(train_mode=True)[brain_name]\n",
    "action_size = brain.vector_action_space_size\n",
    "state = env_info.vector_observations[0]\n",
    "state_size = len(state)\n",
    "num_agents = len(env_info.agents)\n",
    "print('Number of agents:', num_agents)"
   ]
  },
  {
   "cell_type": "markdown",
   "metadata": {},
   "source": [
    "Environments contain **_brains_** which are responsible for deciding the actions of their associated agents. Here we check for the first brain available, and set it as the default brain we will be controlling from Python."
   ]
  },
  {
   "cell_type": "markdown",
   "metadata": {},
   "source": [
    "### 2. DDPG function\n",
    "\n"
   ]
  },
  {
   "cell_type": "code",
   "execution_count": 3,
   "metadata": {},
   "outputs": [],
   "source": [
    "def save_model():\n",
    "    print(\"Model Save...\")\n",
    "    torch.save(agent.actor_local.state_dict(), 'checkpoint_actor.pth')\n",
    "    torch.save(agent.critic_local.state_dict(), 'checkpoint_critic.pth')"
   ]
  },
  {
   "cell_type": "code",
   "execution_count": 4,
   "metadata": {},
   "outputs": [],
   "source": [
    "from ddpg_agent import Agent\n",
    "agent = Agent(state_size=state_size, action_size=action_size, num_agents=num_agents, random_seed=0)\n",
    "\n",
    "def ddpg(n_episodes=3200, max_t=10000, print_every=10, save_every=100, train = True):\n",
    "    scores_window = deque(maxlen=100)\n",
    "    scores = []\n",
    "        \n",
    "    for i_episode in range(1, n_episodes+1):\n",
    "        env_info = env.reset(train_mode=True)[brain_name]      # reset the environment    \n",
    "        states = env_info.vector_observations                  # get the current state (for each agent)\n",
    "        scores_t = np.zeros(num_agents)                          # initialize the score (for each agent)\n",
    "        agent.reset()\n",
    "        \n",
    "        score_average = 0\n",
    "        timestep = time.time()\n",
    "        for t in range(max_t): \n",
    "            actions = agent.act(states)\n",
    "            env_info = env.step(actions)[brain_name]           # send all actions to tne environment\n",
    "            next_states = env_info.vector_observations         # get next state (for each agent)\n",
    "            rewards = env_info.rewards                         # get reward (for each agent)\n",
    "            dones = env_info.local_done             # see if episode finished\n",
    "            if train:\n",
    "                agent.step(states, actions, rewards, next_states, dones)\n",
    "            states = next_states                               # roll over states to next time step\n",
    "            scores_t += rewards                                  # update the score (for each agent)            \n",
    "            if np.any(dones):                                  # exit loop if episode finished\n",
    "                break\n",
    "        \n",
    "        score = np.mean(scores_t)\n",
    "        scores_window.append(score)\n",
    "        score_average = np.mean(scores_window)\n",
    "        scores.append(score)\n",
    "        \n",
    "        if i_episode % save_every == 0:\n",
    "            save_model()\n",
    "        \n",
    "        if i_episode % print_every == 0:\n",
    "            print('\\rEpisode {}, Average Score: {:.2f}, Max: {:.2f}, Min: {:.2f}, Time: {:.2f}'\\\n",
    "                  .format(i_episode, score_average, np.max(scores), np.min(scores), time.time() - timestep), end=\"\\n\")        \n",
    "                    \n",
    "        if score_average >= 0.5:\n",
    "            save_model()\n",
    "            print('\\nEnvironment solved in {:d} episodes!\\tAverage Score: {:.2f}'.format(i_episode, score_average))            \n",
    "            break            \n",
    "            \n",
    "    return scores\n"
   ]
  },
  {
   "cell_type": "markdown",
   "metadata": {},
   "source": [
    "### 3. Train the model\n",
    "\n"
   ]
  },
  {
   "cell_type": "code",
   "execution_count": 5,
   "metadata": {},
   "outputs": [
    {
     "name": "stderr",
     "output_type": "stream",
     "text": [
      "/home/sweerts/anaconda3/envs/drlnd/lib/python3.6/site-packages/torch/nn/functional.py:995: UserWarning: nn.functional.tanh is deprecated. Use torch.tanh instead.\n",
      "  warnings.warn(\"nn.functional.tanh is deprecated. Use torch.tanh instead.\")\n"
     ]
    },
    {
     "name": "stdout",
     "output_type": "stream",
     "text": [
      "Episode 10, Average Score: -0.01, Max: -0.00, Min: -0.01, Time: 0.09\n",
      "Episode 20, Average Score: -0.01, Max: -0.00, Min: -0.01, Time: 0.08\n",
      "Episode 30, Average Score: -0.00, Max: 0.05, Min: -0.01, Time: 0.43\n",
      "Episode 40, Average Score: -0.00, Max: 0.05, Min: -0.01, Time: 0.26\n",
      "Episode 50, Average Score: -0.00, Max: 0.05, Min: -0.01, Time: 0.46\n",
      "Episode 60, Average Score: -0.00, Max: 0.05, Min: -0.01, Time: 0.48\n",
      "Episode 70, Average Score: -0.00, Max: 0.05, Min: -0.01, Time: 0.47\n",
      "Episode 80, Average Score: -0.00, Max: 0.05, Min: -0.01, Time: 0.25\n",
      "Episode 90, Average Score: -0.00, Max: 0.05, Min: -0.01, Time: 0.49\n",
      "Model Save...\n",
      "Episode 100, Average Score: -0.00, Max: 0.05, Min: -0.01, Time: 0.52\n",
      "Episode 110, Average Score: -0.00, Max: 0.05, Min: -0.01, Time: 0.27\n",
      "Episode 120, Average Score: -0.00, Max: 0.05, Min: -0.01, Time: 0.26\n",
      "Episode 130, Average Score: -0.00, Max: 0.05, Min: -0.01, Time: 0.26\n",
      "Episode 140, Average Score: -0.00, Max: 0.05, Min: -0.01, Time: 0.48\n",
      "Episode 150, Average Score: -0.00, Max: 0.05, Min: -0.01, Time: 0.50\n",
      "Episode 160, Average Score: -0.00, Max: 0.05, Min: -0.01, Time: 0.27\n",
      "Episode 170, Average Score: -0.00, Max: 0.05, Min: -0.01, Time: 0.27\n",
      "Episode 180, Average Score: -0.00, Max: 0.05, Min: -0.01, Time: 0.27\n",
      "Episode 190, Average Score: -0.00, Max: 0.05, Min: -0.01, Time: 0.51\n",
      "Model Save...\n",
      "Episode 200, Average Score: -0.00, Max: 0.05, Min: -0.01, Time: 0.48\n",
      "Episode 210, Average Score: -0.00, Max: 0.05, Min: -0.01, Time: 0.46\n",
      "Episode 220, Average Score: -0.00, Max: 0.05, Min: -0.01, Time: 0.49\n",
      "Episode 230, Average Score: -0.00, Max: 0.05, Min: -0.01, Time: 0.46\n",
      "Episode 240, Average Score: -0.00, Max: 0.05, Min: -0.01, Time: 0.25\n",
      "Episode 250, Average Score: -0.00, Max: 0.05, Min: -0.01, Time: 0.48\n",
      "Episode 260, Average Score: -0.00, Max: 0.05, Min: -0.01, Time: 0.49\n",
      "Episode 270, Average Score: -0.00, Max: 0.05, Min: -0.01, Time: 0.25\n",
      "Episode 280, Average Score: -0.00, Max: 0.05, Min: -0.01, Time: 0.28\n",
      "Episode 290, Average Score: -0.00, Max: 0.05, Min: -0.01, Time: 0.28\n",
      "Model Save...\n",
      "Episode 300, Average Score: -0.00, Max: 0.05, Min: -0.01, Time: 0.45\n",
      "Episode 310, Average Score: -0.00, Max: 0.05, Min: -0.01, Time: 0.48\n",
      "Episode 320, Average Score: -0.00, Max: 0.05, Min: -0.01, Time: 0.28\n",
      "Episode 330, Average Score: -0.00, Max: 0.05, Min: -0.01, Time: 0.27\n",
      "Episode 340, Average Score: -0.00, Max: 0.05, Min: -0.01, Time: 0.28\n",
      "Episode 350, Average Score: -0.00, Max: 0.05, Min: -0.01, Time: 0.45\n",
      "Episode 360, Average Score: -0.00, Max: 0.05, Min: -0.01, Time: 0.48\n",
      "Episode 370, Average Score: -0.00, Max: 0.05, Min: -0.01, Time: 0.25\n",
      "Episode 380, Average Score: -0.00, Max: 0.05, Min: -0.01, Time: 0.25\n",
      "Episode 390, Average Score: -0.00, Max: 0.05, Min: -0.01, Time: 0.27\n",
      "Model Save...\n",
      "Episode 400, Average Score: -0.00, Max: 0.05, Min: -0.01, Time: 0.49\n",
      "Episode 410, Average Score: -0.00, Max: 0.05, Min: -0.01, Time: 0.48\n",
      "Episode 420, Average Score: -0.00, Max: 0.05, Min: -0.01, Time: 0.27\n",
      "Episode 430, Average Score: -0.00, Max: 0.05, Min: -0.01, Time: 0.26\n",
      "Episode 440, Average Score: -0.00, Max: 0.05, Min: -0.01, Time: 0.27\n",
      "Episode 450, Average Score: -0.00, Max: 0.05, Min: -0.01, Time: 0.47\n",
      "Episode 460, Average Score: -0.00, Max: 0.05, Min: -0.01, Time: 0.49\n",
      "Episode 470, Average Score: -0.00, Max: 0.05, Min: -0.01, Time: 0.28\n",
      "Episode 480, Average Score: -0.00, Max: 0.05, Min: -0.01, Time: 0.50\n",
      "Episode 490, Average Score: -0.00, Max: 0.05, Min: -0.01, Time: 0.49\n",
      "Model Save...\n",
      "Episode 500, Average Score: -0.00, Max: 0.05, Min: -0.01, Time: 0.29\n",
      "Episode 510, Average Score: -0.00, Max: 0.05, Min: -0.01, Time: 0.95\n",
      "Episode 520, Average Score: -0.00, Max: 0.05, Min: -0.01, Time: 0.48\n",
      "Episode 530, Average Score: -0.00, Max: 0.05, Min: -0.01, Time: 0.52\n",
      "Episode 540, Average Score: -0.00, Max: 0.05, Min: -0.01, Time: 0.47\n",
      "Episode 550, Average Score: 0.00, Max: 0.05, Min: -0.01, Time: 0.74\n",
      "Episode 560, Average Score: 0.00, Max: 0.05, Min: -0.01, Time: 1.04\n",
      "Episode 570, Average Score: 0.01, Max: 0.10, Min: -0.01, Time: 0.52\n",
      "Episode 580, Average Score: 0.01, Max: 0.10, Min: -0.01, Time: 0.97\n",
      "Episode 590, Average Score: 0.01, Max: 0.10, Min: -0.01, Time: 0.27\n",
      "Model Save...\n",
      "Episode 600, Average Score: 0.02, Max: 0.10, Min: -0.01, Time: 0.82\n",
      "Episode 610, Average Score: 0.02, Max: 0.10, Min: -0.01, Time: 0.52\n",
      "Episode 620, Average Score: 0.02, Max: 0.10, Min: -0.01, Time: 0.83\n",
      "Episode 630, Average Score: 0.02, Max: 0.10, Min: -0.01, Time: 0.56\n",
      "Episode 640, Average Score: 0.03, Max: 0.10, Min: -0.01, Time: 0.55\n",
      "Episode 650, Average Score: 0.03, Max: 0.10, Min: -0.01, Time: 0.29\n",
      "Episode 660, Average Score: 0.03, Max: 0.10, Min: -0.01, Time: 0.84\n",
      "Episode 670, Average Score: 0.03, Max: 0.10, Min: -0.01, Time: 1.02\n",
      "Episode 680, Average Score: 0.03, Max: 0.10, Min: -0.01, Time: 0.54\n",
      "Episode 690, Average Score: 0.03, Max: 0.10, Min: -0.01, Time: 1.07\n",
      "Model Save...\n",
      "Episode 700, Average Score: 0.03, Max: 0.10, Min: -0.01, Time: 1.04\n",
      "Episode 710, Average Score: 0.03, Max: 0.10, Min: -0.01, Time: 0.86\n",
      "Episode 720, Average Score: 0.04, Max: 0.10, Min: -0.01, Time: 0.84\n",
      "Episode 730, Average Score: 0.04, Max: 0.15, Min: -0.01, Time: 0.83\n",
      "Episode 740, Average Score: 0.04, Max: 0.15, Min: -0.01, Time: 1.91\n",
      "Episode 750, Average Score: 0.04, Max: 0.15, Min: -0.01, Time: 1.11\n",
      "Episode 760, Average Score: 0.04, Max: 0.15, Min: -0.01, Time: 0.84\n",
      "Episode 770, Average Score: 0.04, Max: 0.15, Min: -0.01, Time: 0.83\n",
      "Episode 780, Average Score: 0.04, Max: 0.15, Min: -0.01, Time: 0.76\n",
      "Episode 790, Average Score: 0.04, Max: 0.15, Min: -0.01, Time: 0.87\n",
      "Model Save...\n",
      "Episode 800, Average Score: 0.04, Max: 0.15, Min: -0.01, Time: 0.85\n",
      "Episode 810, Average Score: 0.04, Max: 0.15, Min: -0.01, Time: 1.06\n",
      "Episode 820, Average Score: 0.04, Max: 0.15, Min: -0.01, Time: 0.85\n",
      "Episode 830, Average Score: 0.04, Max: 0.15, Min: -0.01, Time: 0.80\n",
      "Episode 840, Average Score: 0.04, Max: 0.15, Min: -0.01, Time: 0.82\n",
      "Episode 850, Average Score: 0.04, Max: 0.15, Min: -0.01, Time: 0.84\n",
      "Episode 860, Average Score: 0.04, Max: 0.15, Min: -0.01, Time: 0.82\n",
      "Episode 870, Average Score: 0.04, Max: 0.15, Min: -0.01, Time: 1.29\n",
      "Episode 880, Average Score: 0.04, Max: 0.15, Min: -0.01, Time: 1.01\n",
      "Episode 890, Average Score: 0.04, Max: 0.15, Min: -0.01, Time: 0.76\n",
      "Model Save...\n",
      "Episode 900, Average Score: 0.04, Max: 0.15, Min: -0.01, Time: 0.81\n",
      "Episode 910, Average Score: 0.04, Max: 0.15, Min: -0.01, Time: 1.12\n",
      "Episode 920, Average Score: 0.04, Max: 0.15, Min: -0.01, Time: 1.06\n",
      "Episode 930, Average Score: 0.04, Max: 0.15, Min: -0.01, Time: 0.86\n",
      "Episode 940, Average Score: 0.04, Max: 0.15, Min: -0.01, Time: 0.82\n",
      "Episode 950, Average Score: 0.05, Max: 0.15, Min: -0.01, Time: 0.84\n",
      "Episode 960, Average Score: 0.05, Max: 0.15, Min: -0.01, Time: 0.81\n",
      "Episode 970, Average Score: 0.05, Max: 0.15, Min: -0.01, Time: 0.85\n",
      "Episode 980, Average Score: 0.05, Max: 0.15, Min: -0.01, Time: 0.85\n",
      "Episode 990, Average Score: 0.05, Max: 0.15, Min: -0.01, Time: 0.82\n",
      "Model Save...\n",
      "Episode 1000, Average Score: 0.05, Max: 0.15, Min: -0.01, Time: 1.06\n",
      "Episode 1010, Average Score: 0.05, Max: 0.15, Min: -0.01, Time: 1.14\n",
      "Episode 1020, Average Score: 0.05, Max: 0.40, Min: -0.01, Time: 0.85\n",
      "Episode 1030, Average Score: 0.05, Max: 0.40, Min: -0.01, Time: 1.01\n",
      "Episode 1040, Average Score: 0.05, Max: 0.40, Min: -0.01, Time: 1.30\n",
      "Episode 1050, Average Score: 0.05, Max: 0.40, Min: -0.01, Time: 0.88\n",
      "Episode 1060, Average Score: 0.07, Max: 0.90, Min: -0.01, Time: 1.08\n",
      "Episode 1070, Average Score: 0.07, Max: 0.90, Min: -0.01, Time: 0.79\n",
      "Episode 1080, Average Score: 0.07, Max: 0.90, Min: -0.01, Time: 0.80\n",
      "Episode 1090, Average Score: 0.07, Max: 0.90, Min: -0.01, Time: 1.33\n",
      "Model Save...\n",
      "Episode 1100, Average Score: 0.08, Max: 0.90, Min: -0.01, Time: 1.66\n",
      "Episode 1110, Average Score: 0.07, Max: 0.90, Min: -0.01, Time: 0.48\n",
      "Episode 1120, Average Score: 0.07, Max: 0.90, Min: -0.01, Time: 0.30\n",
      "Episode 1130, Average Score: 0.07, Max: 0.90, Min: -0.01, Time: 0.83\n",
      "Episode 1140, Average Score: 0.07, Max: 0.90, Min: -0.01, Time: 0.83\n",
      "Episode 1150, Average Score: 0.07, Max: 0.90, Min: -0.01, Time: 1.04\n",
      "Episode 1160, Average Score: 0.05, Max: 0.90, Min: -0.01, Time: 0.79\n",
      "Episode 1170, Average Score: 0.05, Max: 0.90, Min: -0.01, Time: 0.88\n",
      "Episode 1180, Average Score: 0.05, Max: 0.90, Min: -0.01, Time: 0.82\n"
     ]
    },
    {
     "name": "stdout",
     "output_type": "stream",
     "text": [
      "Episode 1190, Average Score: 0.06, Max: 0.90, Min: -0.01, Time: 0.81\n",
      "Model Save...\n",
      "Episode 1200, Average Score: 0.07, Max: 0.90, Min: -0.01, Time: 0.85\n",
      "Episode 1210, Average Score: 0.07, Max: 0.90, Min: -0.01, Time: 1.07\n",
      "Episode 1220, Average Score: 0.13, Max: 2.60, Min: -0.01, Time: 27.85\n",
      "Episode 1230, Average Score: 0.25, Max: 2.60, Min: -0.01, Time: 6.57\n",
      "Episode 1240, Average Score: 0.28, Max: 2.60, Min: -0.01, Time: 14.74\n",
      "Episode 1250, Average Score: 0.31, Max: 2.60, Min: -0.01, Time: 3.50\n",
      "Episode 1260, Average Score: 0.34, Max: 2.60, Min: -0.01, Time: 16.83\n",
      "Episode 1270, Average Score: 0.39, Max: 2.60, Min: -0.01, Time: 5.55\n",
      "Episode 1280, Average Score: 0.45, Max: 2.60, Min: -0.01, Time: 12.84\n",
      "Model Save...\n",
      "\n",
      "Environment solved in 1282 episodes!\tAverage Score: 0.50\n"
     ]
    },
    {
     "data": {
      "image/png": "[encoded data removed]",
      "text/plain": [
       "<Figure size 432x288 with 1 Axes>"
      ]
     },
     "metadata": {
      "needs_background": "light"
     },
     "output_type": "display_data"
    }
   ],
   "source": [
    "\n",
    "scores = ddpg()\n",
    "\n",
    "fig = plt.figure()\n",
    "ax = fig.add_subplot(111)\n",
    "plt.plot(np.arange(1, len(scores)+1), scores)\n",
    "plt.ylabel('Score')\n",
    "plt.xlabel('Episode #')\n",
    "plt.show()"
   ]
  },
  {
   "cell_type": "markdown",
   "metadata": {},
   "source": [
    "### 4. Run trained model\n",
    "\n"
   ]
  },
  {
   "cell_type": "code",
   "execution_count": 6,
   "metadata": {},
   "outputs": [
    {
     "name": "stdout",
     "output_type": "stream",
     "text": [
      "Model Save...\n",
      "\n",
      "Environment solved in 1 episodes!\tAverage Score: 2.65\n"
     ]
    }
   ],
   "source": [
    "agent = Agent(state_size=state_size, action_size=action_size, num_agents=num_agents,random_seed=0, filenameActor='checkpoint_actor.pth', filenameCritic='checkpoint_critic.pth')\n",
    "scores = ddpg(n_episodes=100,train=False)"
   ]
  },
  {
   "cell_type": "markdown",
   "metadata": {},
   "source": [
    "When finished, you can close the environment."
   ]
  },
  {
   "cell_type": "code",
   "execution_count": null,
   "metadata": {},
   "outputs": [],
   "source": [
    "env.close()"
   ]
  }
 ],
 "metadata": {
  "kernelspec": {
   "display_name": "drlnd",
   "language": "python",
   "name": "drlnd"
  },
  "language_info": {
   "codemirror_mode": {
    "name": "ipython",
    "version": 3
   },
   "file_extension": ".py",
   "mimetype": "text/x-python",
   "name": "python",
   "nbconvert_exporter": "python",
   "pygments_lexer": "ipython3",
   "version": "3.6.6"
  }
 },
 "nbformat": 4,
 "nbformat_minor": 2
}
